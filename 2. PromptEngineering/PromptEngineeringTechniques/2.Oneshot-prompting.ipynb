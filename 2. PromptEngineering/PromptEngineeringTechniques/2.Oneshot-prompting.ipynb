{
 "cells": [
  {
   "cell_type": "code",
   "execution_count": 1,
   "metadata": {},
   "outputs": [],
   "source": [
    "from openai import OpenAI\n",
    "\n",
    "myclient=OpenAI(\n",
    "    base_url=\"http://localhost:11434/v1/\",\n",
    "    api_key='ollama'\n",
    ")"
   ]
  },
  {
   "cell_type": "code",
   "execution_count": 7,
   "metadata": {},
   "outputs": [],
   "source": [
    "def get_completion(prompt):\n",
    "    \n",
    "    messages=[{\"role\":\"user\",\"content\":prompt}]\n",
    "              \n",
    "    response=myclient.chat.completions.create(\n",
    "        \n",
    "        model=\"llama3.2\",\n",
    "        messages=messages,\n",
    "        temperature=0\n",
    "    ) \n",
    "    \n",
    "    return response.choices[0].message.content    "
   ]
  },
  {
   "cell_type": "code",
   "execution_count": 8,
   "metadata": {},
   "outputs": [],
   "source": [
    "prompt=f\"\"\"\n",
    "\n",
    "Classify the text into neutral, negative, or positive\n",
    "\n",
    "text: I think today weather is bad\n",
    "\n",
    "response: negative\n",
    "\n",
    "\n",
    "Classify the following:\n",
    "\n",
    "text= The mangoes are sweet\n",
    "response\n",
    "\n",
    "\n",
    "\"\"\""
   ]
  },
  {
   "cell_type": "code",
   "execution_count": 9,
   "metadata": {},
   "outputs": [
    {
     "name": "stdout",
     "output_type": "stream",
     "text": [
      "Based on the classification criteria, I would classify the text as follows:\n",
      "\n",
      "text: \"The mangoes are sweet\"\n",
      "response: Positive\n"
     ]
    }
   ],
   "source": [
    "response=get_completion(prompt)\n",
    "\n",
    "print(response)"
   ]
  }
 ],
 "metadata": {
  "kernelspec": {
   "display_name": ".venv",
   "language": "python",
   "name": "python3"
  },
  "language_info": {
   "codemirror_mode": {
    "name": "ipython",
    "version": 3
   },
   "file_extension": ".py",
   "mimetype": "text/x-python",
   "name": "python",
   "nbconvert_exporter": "python",
   "pygments_lexer": "ipython3",
   "version": "3.12.5"
  }
 },
 "nbformat": 4,
 "nbformat_minor": 2
}
