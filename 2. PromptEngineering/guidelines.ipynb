{
 "cells": [
  {
   "cell_type": "code",
   "execution_count": 1,
   "metadata": {},
   "outputs": [],
   "source": [
    "from openai import OpenAI"
   ]
  },
  {
   "cell_type": "code",
   "execution_count": 2,
   "metadata": {},
   "outputs": [],
   "source": [
    "myclient=OpenAI(\n",
    "    base_url=\"http://localhost:11434/v1/\",\n",
    "    api_key='ollama'\n",
    ")"
   ]
  },
  {
   "cell_type": "code",
   "execution_count": 7,
   "metadata": {},
   "outputs": [],
   "source": [
    "def get_completion(prompt):\n",
    "    \n",
    "    gptmodel=\"Eomer/gpt-3.5-turbo\"\n",
    "    \n",
    "    mypromptMessages=[{\"role\":\"user\",\"content\":prompt}]\n",
    "    \n",
    "    response=myclient.chat.completions.create(\n",
    "        \n",
    "        model=gptmodel,\n",
    "        messages=mypromptMessages\n",
    "    )\n",
    "    return response.choices[0].message.content"
   ]
  },
  {
   "cell_type": "code",
   "execution_count": 10,
   "metadata": {},
   "outputs": [
    {
     "data": {
      "text/plain": [
       "'Of course! Here are five steps to help you learn about artificial intelligence (AI):\\n\\n1. Start with the basics: Understand the fundamentals of computer science and programming principles before diving into AI. Familiarize yourself with data structures, algorithms, and programming languages such as Python or Java. Online resources like Coursera, edX, or Codecademy offer a wide range of courses on these topics.\\n\\n2. Learn machine learning: Machine learning is a subset of AI that involves training computers to learn from data without being explicitly programmed. Study common machine learning algorithms such as linear regression, decision trees, and neural networks. Online resources like Andrew Ng\\'s Machine Learning course on Coursera or Stanford University\\'s Machine Learning Certificate are great places to start.\\n\\n3. Explore deep learning: Deep learning is a subfield of machine learning that utilizes neural networks to learn representations of data. Study popular deep learning frameworks such as TensorFlow, PyTorch, or Keras, and learn how to implement them in your preferred programming language. Online resources like the Deep Learning Specialization on Coursera or Stanford University\\'s Deep Learning course are excellent ways to learn more about this topic.\\n\\n4. Practice with projects: The best way to solidify your understanding of AI is by working on practical projects. Start by building a simple image classifier using a deep learning framework, then move on to more complex projects like natural language processing or recommendation systems. Online communities like Kaggle or GitHub can provide useful resources and motivation for these projects.\\n\\n5. Read books and research papers: To gain a deeper understanding of AI, read books such as \"Python Machine Learning\" by Sebastian Raschka, \"Hands-On Machine Learning with Scikit-Learn, Keras, and TensorFlow\" by Aurelien Geron, or \"Deep Learning\" by Ian Goodfellow, Yoshua Bengio, and Aaron Courville. You can also read research papers on topics related to your area of interest. Some popular papers include \"Attention is All You Need\" by Ashish Vaswani et al. and \"ImageNet Classification with Deep Convolutional Neural Networks\" by Alex Krizhevsky et al.\\n\\nRemember, learning AI requires dedication, persistence, and creativity. By following these steps and staying motivated, you\\'ll be well on your way to becoming an expert in this exciting field!'"
      ]
     },
     "execution_count": 10,
     "metadata": {},
     "output_type": "execute_result"
    }
   ],
   "source": [
    "get_completion(\"How to learn AI, Give me answer in 5 points\")"
   ]
  },
  {
   "cell_type": "code",
   "execution_count": 11,
   "metadata": {},
   "outputs": [
    {
     "name": "stderr",
     "output_type": "stream",
     "text": [
      "<>:12: SyntaxWarning: invalid escape sequence '\\ '\n",
      "<>:12: SyntaxWarning: invalid escape sequence '\\ '\n",
      "/var/folders/48/pxhsm41955d2w1g4cmh2g57h0000gn/T/ipykernel_13282/2731500724.py:12: SyntaxWarning: invalid escape sequence '\\ '\n",
      "  \"\"\"\n"
     ]
    }
   ],
   "source": [
    "text = f\"\"\"\n",
    "You should express what you want a model to do by \\ \n",
    "providing instructions that are as clear and \\ \n",
    "specific as you can possibly make them. \\ \n",
    "This will guide the model towards the desired output, \\ \n",
    "and reduce the chances of receiving irrelevant \\ \n",
    "or incorrect responses. Don't confuse writing a \\ \n",
    "clear prompt with writing a short prompt. \\ \n",
    "In many cases, longer prompts provide more clarity \\ \n",
    "and context for the model, which can lead to \\ \n",
    "more detailed and relevant outputs.\n",
    "\"\"\""
   ]
  },
  {
   "cell_type": "code",
   "execution_count": 13,
   "metadata": {},
   "outputs": [
    {
     "data": {
      "text/plain": [
       "' Hello there! As a friendly assistant, my main goal is to help you achieve your desired outcome by providing clear and specific instructions. I understand that you want me to guide the model towards the desired output, while reducing the chances of receiving irrelevant or incorrect responses. To do this, I will make sure to provide detailed and contextualized prompts that are tailored to your needs.\\n\\nWhile some may assume that shorter prompts are more effective, I believe that longer prompts often offer more clarity and context for the model. By providing additional information and details, you can help the model better understand what you are looking for and deliver a more accurate response.\\n\\nSo, please feel free to provide me with your instructions or questions, and I will do my best to assist you in achieving your desired outcome!'"
      ]
     },
     "execution_count": 13,
     "metadata": {},
     "output_type": "execute_result"
    }
   ],
   "source": [
    "get_completion(text)"
   ]
  },
  {
   "cell_type": "code",
   "execution_count": 18,
   "metadata": {},
   "outputs": [
    {
     "name": "stderr",
     "output_type": "stream",
     "text": [
      "<>:6: SyntaxWarning: invalid escape sequence '\\ '\n",
      "<>:6: SyntaxWarning: invalid escape sequence '\\ '\n",
      "/var/folders/48/pxhsm41955d2w1g4cmh2g57h0000gn/T/ipykernel_13282/2019508678.py:6: SyntaxWarning: invalid escape sequence '\\ '\n",
      "  \"\"\"\n"
     ]
    }
   ],
   "source": [
    "prompt = f\"\"\"\n",
    "Generate a list of five made-up book titles along \\ \n",
    "with their authors and genres. \n",
    "Provide them in JSON format with the following keys: \n",
    "book_id, title, author, genre.\n",
    "\"\"\""
   ]
  },
  {
   "cell_type": "code",
   "execution_count": 19,
   "metadata": {},
   "outputs": [
    {
     "name": "stdout",
     "output_type": "stream",
     "text": [
      "{\n",
      "\"book_id\": \"1\",\n",
      "\"title\": \"The Time Traveler's Cookbook\",\n",
      "\"author\": \"Emily Jenkins\",\n",
      "\"genre\": \"Science Fiction\"\n",
      "},\n",
      "\n",
      "{\n",
      "\"book_id\": \"2\",\n",
      "\"title\": \"The Lost City of Eldarado\",\n",
      "\"author\": \"Roland Smith\",\n",
      "\"genre\": \"Fantasy\"\n",
      "},\n",
      "\n",
      "{\n",
      "\"book_id\": \"3\",\n",
      "\"title\": \"The Quantum Prophecy\",\n",
      "\"author\": \"Jared Ragsdale\",\n",
      "\"genre\": \"Science Fiction\"\n",
      "},\n",
      "\n",
      "{\n",
      "\"book_id\": \"4\",\n",
      "\"title\": \"The History of Magic\",\n",
      "\"author\": \"Agatha Blackwood\",\n",
      "\"genre\": \"Fantasy\"\n",
      "},\n",
      "\n",
      "{\n",
      "\"book_id\": \"5\",\n",
      "\"title\": \"The Space Station Survival Guide\",\n",
      "\"author\": \"Ava Lee\",\n",
      "\"genre\": \"Science Fiction\"\n",
      "}\n",
      "}\n"
     ]
    }
   ],
   "source": [
    "response=get_completion(prompt)\n",
    "\n",
    "print(response)"
   ]
  },
  {
   "cell_type": "code",
   "execution_count": 23,
   "metadata": {},
   "outputs": [
    {
     "name": "stderr",
     "output_type": "stream",
     "text": [
      "<>:11: SyntaxWarning: invalid escape sequence '\\ '\n",
      "<>:26: SyntaxWarning: invalid escape sequence '\\ '\n",
      "<>:11: SyntaxWarning: invalid escape sequence '\\ '\n",
      "<>:26: SyntaxWarning: invalid escape sequence '\\ '\n",
      "/var/folders/48/pxhsm41955d2w1g4cmh2g57h0000gn/T/ipykernel_13282/3930122008.py:11: SyntaxWarning: invalid escape sequence '\\ '\n",
      "  \"\"\"\n",
      "/var/folders/48/pxhsm41955d2w1g4cmh2g57h0000gn/T/ipykernel_13282/3930122008.py:26: SyntaxWarning: invalid escape sequence '\\ '\n",
      "  \"\"\"\n"
     ]
    }
   ],
   "source": [
    "text_1 = f\"\"\"\n",
    "Making a cup of tea is easy! First, you need to get some \\ \n",
    "water boiling. While that's happening, \\ \n",
    "grab a cup and put a tea bag in it. Once the water is \\ \n",
    "hot enough, just pour it over the tea bag. \\ \n",
    "Let it sit for a bit so the tea can steep. After a \\ \n",
    "few minutes, take out the tea bag. If you \\ \n",
    "like, you can add some sugar or milk to taste. \\ \n",
    "And that's it! You've got yourself a delicious \\ \n",
    "cup of tea to enjoy.\n",
    "\"\"\"\n",
    "prompt = f\"\"\"\n",
    "You will be provided with text delimited by triple quotes. \n",
    "If it contains a sequence of instructions, \\ \n",
    "re-write those instructions in the following format:\n",
    "\n",
    "procedure 1 :\n",
    "procedure 2 -\n",
    "…\n",
    "procedure N -\n",
    "\n",
    "If the text does not contain a sequence of instructions, \\ \n",
    "then simply write \\\"No steps provided.\\\"\n",
    "\n",
    "\\\"\\\"\\\"{text_1}\\\"\\\"\\\"\n",
    "\"\"\""
   ]
  },
  {
   "cell_type": "code",
   "execution_count": 24,
   "metadata": {},
   "outputs": [
    {
     "name": "stdout",
     "output_type": "stream",
     "text": [
      "Making a cup of tea is easy! Here are the steps:\n",
      "\n",
      "Procedure 1 - Get some water boiling.\n",
      "Procedure 2 - Grab a cup and put a tea bag in it.\n",
      "Procedure 3 - Once the water is hot enough, pour it over the tea bag.\n",
      "Procedure 4 - Let it sit for a bit so the tea can steep.\n",
      "Procedure 5 - Take out the tea bag. (Optional) Add some sugar or milk to taste.\n",
      "No steps provided.\n"
     ]
    }
   ],
   "source": [
    "response=get_completion(prompt)\n",
    "print(response)"
   ]
  },
  {
   "cell_type": "code",
   "execution_count": 30,
   "metadata": {},
   "outputs": [
    {
     "name": "stderr",
     "output_type": "stream",
     "text": [
      "<>:23: SyntaxWarning: invalid escape sequence '\\ '\n",
      "<>:23: SyntaxWarning: invalid escape sequence '\\ '\n",
      "/var/folders/48/pxhsm41955d2w1g4cmh2g57h0000gn/T/ipykernel_13282/3254370254.py:23: SyntaxWarning: invalid escape sequence '\\ '\n",
      "  \"\"\"\n"
     ]
    }
   ],
   "source": [
    "prompt = f\"\"\"\n",
    "Determine if the student's solution is correct or not.\n",
    "\n",
    "Question:\n",
    "I'm building a solar power installation and I need \\\n",
    " help working out the financials. \n",
    "- Land costs \n",
    "250 / square foot\n",
    "- I negotiated a contract for maintenance that will cost \\ \n",
    "me a flat \n",
    "10 / square \\\n",
    "foot\n",
    "What is the total cost for the first year of operations \n",
    "as a function of the number of square feet.\n",
    "\n",
    "Student's Solution:\n",
    "Let x be the size of the installation in square feet.\n",
    "Costs:\n",
    "1. Land cost: 100x\n",
    "2. Solar panel cost: 2x\n",
    "3. Maintenance cost: x\n",
    "Total cost: 100x + 250x + 100x = 450x\n",
    "\"\"\""
   ]
  },
  {
   "cell_type": "code",
   "execution_count": 31,
   "metadata": {},
   "outputs": [
    {
     "name": "stdout",
     "output_type": "stream",
     "text": [
      "Great job, student! Your solution is mostly correct, but there are a few minor errors that need to be addressed. Here's how you can improve your answer:\n",
      "\n",
      "1. Land cost: You correctly calculated the land cost as $100x. However, you should have mentioned that this cost is per square foot, so the formula should be 100x/square foot.\n",
      "2. Solar panel cost: You calculated the solar panel cost correctly as $250x.\n",
      "3. Maintenance cost: While you correctly calculated the maintenance cost as $100x, you should have mentioned that this is also per square foot, so the formula should be 100x/square foot.\n",
      "4. Total cost: You correctly summed up the costs for each category and got a total cost of $450x.\n",
      "\n",
      "So, the student's solution is mostly correct but needs some minor adjustments to reflect that the costs are per square foot. Great job!\n"
     ]
    }
   ],
   "source": [
    "response=get_completion(prompt)\n",
    "\n",
    "print(response)"
   ]
  }
 ],
 "metadata": {
  "kernelspec": {
   "display_name": ".venv",
   "language": "python",
   "name": "python3"
  },
  "language_info": {
   "codemirror_mode": {
    "name": "ipython",
    "version": 3
   },
   "file_extension": ".py",
   "mimetype": "text/x-python",
   "name": "python",
   "nbconvert_exporter": "python",
   "pygments_lexer": "ipython3",
   "version": "3.12.5"
  }
 },
 "nbformat": 4,
 "nbformat_minor": 2
}
