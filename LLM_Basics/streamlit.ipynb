{
 "cells": [
  {
   "cell_type": "code",
   "execution_count": null,
   "metadata": {},
   "outputs": [],
   "source": [
    "import streamlit as st\n",
    "#from langchain.llms import OpenAI\n",
    "from openai import OpenAI\n",
    "#st.set_page_config(page_title=\"LLM App Example\")\n",
    "#st.title('LLM App example')\n",
    "\n",
    "openai_api_key = st.sidebar.text_input('OpenAI API Key')\n",
    "\n",
    "def generate_response(input_text):\n",
    "  llm = OpenAI(temperature=0.7, openai_api_key=openai_api_key)\n",
    "  \n",
    "  st.info(llm(input_text))\n",
    "\n",
    "with st.form('my_form'):\n",
    "  text = st.text_area('Enter text:', 'What are the three key pieces of advice for learning how to code?')\n",
    "  submitted = st.form_submit_button('Submit')\n",
    "  if not openai_api_key.startswith('sk-'):\n",
    "    st.warning('Please enter your OpenAI API key!', icon='⚠')\n",
    "  if submitted and openai_api_key.startswith('sk-'):\n",
    "    generate_response(text)"
   ]
  }
 ],
 "metadata": {
  "kernelspec": {
   "display_name": "mlEnv3",
   "language": "python",
   "name": "mlenv3"
  },
  "language_info": {
   "codemirror_mode": {
    "name": "ipython",
    "version": 3
   },
   "file_extension": ".py",
   "mimetype": "text/x-python",
   "name": "python",
   "nbconvert_exporter": "python",
   "pygments_lexer": "ipython3",
   "version": "3.12.7"
  }
 },
 "nbformat": 4,
 "nbformat_minor": 2
}
